{
 "cells": [
  {
   "cell_type": "code",
   "execution_count": null,
   "id": "6f67a52f-b58f-41f7-9088-7a81cd447284",
   "metadata": {},
   "outputs": [],
   "source": [
    "import cv2\n",
    "import torch\n",
    "import numpy as np\n",
    "\n",
    "# Load YOLOv5 model with half precision\n",
    "model = torch.hub.load('ultralytics/yolov5', 'yolov5n', pretrained=True).half()\n",
    "\n",
    "def detect_objects(image):\n",
    "    # Resize image for faster processing (e.g., 640x480)\n",
    "    resized_image = cv2.resize(image, (640, 480))\n",
    "\n",
    "    # Convert image to FP16\n",
    "    resized_image = resized_image.astype(np.float16)\n",
    "\n",
    "\n",
    "def detect_objects(image):\n",
    "    # Resize image for faster processing (e.g., 640x480)\n",
    "    resized_image = cv2.resize(image, (640, 480))\n",
    "    results = model(resized_image)  # Perform object detection\n",
    "    detections = results.xyxy[0]  # Get bounding box predictions\n",
    "    boxes = detections[:, :4].cpu().numpy()  # Extract bounding boxes\n",
    "    confidences = detections[:, 4].cpu().numpy()  # Extract confidence scores\n",
    "    class_ids = detections[:, 5].cpu().numpy().astype(int)  # Extract class IDs\n",
    "    indexes = cv2.dnn.NMSBoxes(boxes.tolist(), confidences.tolist(), 0.5, 0.4)  # Apply NMS\n",
    "    return boxes, confidences, class_ids, indexes\n",
    "\n",
    "cap = cv2.VideoCapture(1)  # Use 0 for the default webcam\n",
    "\n",
    "# Check if the webcam is opened successfully\n",
    "if not cap.isOpened():\n",
    "    print(\"Error: Could not open webcam\")\n",
    "else:\n",
    "    while True:\n",
    "        ret, frame = cap.read()\n",
    "        if not ret:\n",
    "            print(\"Error: Failed to capture frame\")\n",
    "            break\n",
    "\n",
    "        boxes, confidences, class_ids, indexes = detect_objects(frame)\n",
    "        font = cv2.FONT_HERSHEY_PLAIN\n",
    "        for i in range(len(boxes)):\n",
    "            if i in indexes:\n",
    "                x, y, w, h = boxes[i]\n",
    "                if not np.isnan(x) and not np.isnan(y) and not np.isnan(w) and not np.isnan(h):\n",
    "                    x, y, w, h = int(x), int(y), int(w), int(h)  # Convert to integers\n",
    "                    label = model.names[class_ids[i]]  # Get class name\n",
    "                    color = (0, 255, 0)  # Green color for bounding box\n",
    "                    cv2.rectangle(frame, (x, y), (x + w, y + h), color, 2)\n",
    "                    cv2.putText(frame, label, (x, y - 10), font, 1, color, 2)\n",
    "\n",
    "        cv2.imshow(\"Webcam\", frame)\n",
    "        \n",
    "        if cv2.waitKey(1) & 0xFF == ord('q'):\n",
    "            break\n",
    "\n",
    "    cap.release()\n",
    "    cv2.destroyAllWindows()\n"
   ]
  },
  {
   "cell_type": "code",
   "execution_count": null,
   "id": "8ce73c82-3a4d-4f9c-9f77-14ce418d2571",
   "metadata": {},
   "outputs": [],
   "source": []
  },
  {
   "cell_type": "code",
   "execution_count": null,
   "id": "eb2a8d15-10cf-4828-a943-d51f588c6f6f",
   "metadata": {},
   "outputs": [],
   "source": []
  }
 ],
 "metadata": {
  "kernelspec": {
   "display_name": "Python 3 (ipykernel)",
   "language": "python",
   "name": "python3"
  },
  "language_info": {
   "codemirror_mode": {
    "name": "ipython",
    "version": 3
   },
   "file_extension": ".py",
   "mimetype": "text/x-python",
   "name": "python",
   "nbconvert_exporter": "python",
   "pygments_lexer": "ipython3",
   "version": "3.11.4"
  }
 },
 "nbformat": 4,
 "nbformat_minor": 5
}

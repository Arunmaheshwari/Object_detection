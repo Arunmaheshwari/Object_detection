{
 "cells": [
  {
   "cell_type": "code",
   "execution_count": 1,
   "id": "09d7236b-4077-4643-9cbd-c91a967e4a68",
   "metadata": {},
   "outputs": [],
   "source": [
    "import cv2\n",
    "import numpy as np\n",
    "import torch"
   ]
  },
  {
   "cell_type": "code",
   "execution_count": 2,
   "id": "6e74e37d-3179-4284-88f6-8383490bc3db",
   "metadata": {},
   "outputs": [
    {
     "name": "stderr",
     "output_type": "stream",
     "text": [
      "Using cache found in C:\\Users\\Hare Krishna/.cache\\torch\\hub\\ultralytics_yolov5_master\n",
      "YOLOv5  2024-5-28 Python-3.11.4 torch-2.3.0+cpu CPU\n",
      "\n",
      "Fusing layers... \n",
      "YOLOv5s summary: 213 layers, 7225885 parameters, 0 gradients, 16.4 GFLOPs\n",
      "Adding AutoShape... \n"
     ]
    }
   ],
   "source": [
    "model = torch.hub.load('ultralytics/yolov5', 'yolov5s', pretrained=True)\n",
    "class_names = model.names"
   ]
  },
  {
   "cell_type": "code",
   "execution_count": 3,
   "id": "2e2a7481-e223-4142-8b5f-7781b991bd7c",
   "metadata": {},
   "outputs": [],
   "source": [
    "\n",
    "def detect_objects(image):\n",
    "    results = model(image)\n",
    "    boxes = results.xyxy[0][:, :4].cpu().numpy()\n",
    "    confidences = results.xyxy[0][:, 4].cpu().numpy()\n",
    "    class_ids = results.xyxy[0][:, 5].cpu().numpy().astype(int)\n",
    "    indexes = cv2.dnn.NMSBoxes(boxes.tolist(), confidences.tolist(), 0.5, 0.4)\n",
    "    return boxes, confidences, class_ids, indexes"
   ]
  },
  {
   "cell_type": "code",
   "execution_count": 4,
   "id": "d82b72b1-7705-4554-b2d8-66c4905d093f",
   "metadata": {},
   "outputs": [],
   "source": [
    "\n",
    "video_path = 'animal.mp4'"
   ]
  },
  {
   "cell_type": "code",
   "execution_count": 5,
   "id": "9c8adbcb-5156-4a78-9b5f-b936315dd330",
   "metadata": {},
   "outputs": [],
   "source": [
    "\n",
    "cap = cv2.VideoCapture(video_path)\n",
    "screen_width = 800\n",
    "screen_height = 600"
   ]
  },
  {
   "cell_type": "code",
   "execution_count": 6,
   "id": "8ea988a5-23d3-477a-8a6f-18179a608452",
   "metadata": {},
   "outputs": [],
   "source": [
    "if not cap.isOpened():\n",
    "    print(\"Error: Failed to open video file.\")\n",
    "    exit()"
   ]
  },
  {
   "cell_type": "code",
   "execution_count": 7,
   "id": "7603f514-dd73-4663-a561-20789cd5ac43",
   "metadata": {},
   "outputs": [],
   "source": [
    "while cap.isOpened():\n",
    "    ret, frame = cap.read()\n",
    "    if not ret:\n",
    "        break\n",
    "    frame = cv2.resize(frame, (screen_width, screen_height))\n",
    "\n",
    "    \n",
    "    frame_rgb = cv2.cvtColor(frame, cv2.COLOR_BGR2RGB)\n",
    "\n",
    "    \n",
    "    boxes, confidences, class_ids, indexes = detect_objects(frame_rgb)\n",
    "\n",
    "    \n",
    "    font = cv2.FONT_HERSHEY_PLAIN\n",
    "    for i in range(len(boxes)):\n",
    "        if i in indexes:\n",
    "            x, y, w, h = boxes[i]\n",
    "            label = class_names[class_ids[i]]\n",
    "            color = (0, 255, 0)\n",
    "            cv2.rectangle(frame, (int(x), int(y)), (int(x + w), int(y + h)), color, 2)\n",
    "            cv2.putText(frame, label, (int(x), int(y - 10)), font, 1, color, 2)\n",
    "\n",
    "    \n",
    "    cv2.imshow(\"Video\", frame)\n",
    "\n",
    "    \n",
    "    if cv2.waitKey(1) & 0xFF == ord('q'):\n",
    "        break"
   ]
  },
  {
   "cell_type": "code",
   "execution_count": 8,
   "id": "2aef8b09-268d-4293-819f-d28f5c17e7d5",
   "metadata": {},
   "outputs": [],
   "source": [
    "cap.release()\n",
    "cv2.destroyAllWindows()"
   ]
  },
  {
   "cell_type": "code",
   "execution_count": null,
   "id": "217b3c54-d3ef-470c-bc21-697bae5be0ef",
   "metadata": {},
   "outputs": [],
   "source": []
  },
  {
   "cell_type": "code",
   "execution_count": null,
   "id": "ae184ee8-4bb2-4701-ba5f-33f0db16979a",
   "metadata": {},
   "outputs": [],
   "source": []
  }
 ],
 "metadata": {
  "kernelspec": {
   "display_name": "Python 3 (ipykernel)",
   "language": "python",
   "name": "python3"
  },
  "language_info": {
   "codemirror_mode": {
    "name": "ipython",
    "version": 3
   },
   "file_extension": ".py",
   "mimetype": "text/x-python",
   "name": "python",
   "nbconvert_exporter": "python",
   "pygments_lexer": "ipython3",
   "version": "3.11.4"
  }
 },
 "nbformat": 4,
 "nbformat_minor": 5
}

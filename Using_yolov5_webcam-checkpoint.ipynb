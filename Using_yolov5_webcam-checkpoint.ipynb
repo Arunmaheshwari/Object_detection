{
 "cells": [
  {
   "cell_type": "code",
   "execution_count": 1,
   "id": "3f012988-97c7-4d95-8d15-973d49392c0e",
   "metadata": {},
   "outputs": [
    {
     "name": "stderr",
     "output_type": "stream",
     "text": [
      "Using cache found in C:\\Users\\Hare Krishna/.cache\\torch\\hub\\ultralytics_yolov5_master\n",
      "YOLOv5  2024-5-28 Python-3.11.4 torch-2.3.0+cpu CPU\n",
      "\n",
      "Fusing layers... \n",
      "YOLOv5s summary: 213 layers, 7225885 parameters, 0 gradients, 16.4 GFLOPs\n",
      "Adding AutoShape... \n"
     ]
    }
   ],
   "source": [
    "import cv2\n",
    "import torch\n",
    "import numpy as np\n",
    "\n",
    "\n",
    "model = torch.hub.load('ultralytics/yolov5', 'yolov5s', pretrained=True)\n",
    "\n",
    "def detect_objects(image):\n",
    "    results = model(image) \n",
    "    detections = results.xyxy[0] \n",
    "    boxes = detections[:, :4].cpu().numpy() \n",
    "    confidences = detections[:, 4].cpu().numpy()\n",
    "    class_ids = detections[:, 5].cpu().numpy().astype(int) \n",
    "    indexes = cv2.dnn.NMSBoxes(boxes.tolist(), confidences.tolist(), 0.5, 0.4) \n",
    "    return boxes, confidences, class_ids, indexes\n",
    "\n",
    "cap = cv2.VideoCapture(1) \n",
    "\n",
    "\n",
    "if not cap.isOpened():\n",
    "    print(\"Error: Could not open webcam\")\n",
    "else:\n",
    "    while True:\n",
    "        ret, frame = cap.read()\n",
    "        if not ret:\n",
    "            print(\"Error: Failed to capture frame\")\n",
    "            break\n",
    "\n",
    "        boxes, confidences, class_ids, indexes = detect_objects(frame)\n",
    "        font = cv2.FONT_HERSHEY_PLAIN\n",
    "        for i in range(len(boxes)):\n",
    "            if i in indexes:\n",
    "                x, y, w, h = boxes[i]\n",
    "                \n",
    "                if not np.isnan(x) and not np.isnan(y) and not np.isnan(w) and not np.isnan(h):\n",
    "                    x, y, w, h = int(x), int(y), int(w), int(h)  \n",
    "                    \n",
    "                    label = model.names[class_ids[i]]\n",
    "                    color = (0, 255, 0) \n",
    "                    cv2.rectangle(frame, (x, y), (x + w, y + h), color, 2)\n",
    "                    cv2.putText(frame, label, (x, y - 10), font, 1, color, 2)\n",
    "                else:\n",
    "                    print(\"Warning: Invalid bounding box coordinates\")\n",
    "\n",
    "        cv2.imshow(\"Webcam\", frame)\n",
    "        \n",
    "        if cv2.waitKey(1) & 0xFF == ord('q'):\n",
    "            break\n",
    "\n",
    "    cap.release()\n",
    "    cv2.destroyAllWindows()\n",
    "\n",
    "# Working"
   ]
  },
  {
   "cell_type": "code",
   "execution_count": null,
   "id": "a285f5ca-9af7-44c6-89b9-348ee0593aef",
   "metadata": {},
   "outputs": [],
   "source": []
  }
 ],
 "metadata": {
  "kernelspec": {
   "display_name": "Python 3 (ipykernel)",
   "language": "python",
   "name": "python3"
  },
  "language_info": {
   "codemirror_mode": {
    "name": "ipython",
    "version": 3
   },
   "file_extension": ".py",
   "mimetype": "text/x-python",
   "name": "python",
   "nbconvert_exporter": "python",
   "pygments_lexer": "ipython3",
   "version": "3.11.4"
  }
 },
 "nbformat": 4,
 "nbformat_minor": 5
}
